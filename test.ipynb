{
 "cells": [
  {
   "cell_type": "code",
   "execution_count": 1,
   "metadata": {},
   "outputs": [
    {
     "name": "stderr",
     "output_type": "stream",
     "text": [
      "/Users/aw/projects/phineas/.venv/lib/python3.11/site-packages/tqdm/auto.py:21: TqdmWarning: IProgress not found. Please update jupyter and ipywidgets. See https://ipywidgets.readthedocs.io/en/stable/user_install.html\n",
      "  from .autonotebook import tqdm as notebook_tqdm\n"
     ]
    }
   ],
   "source": [
    "from initialized_model.configuration_phi import PhiConfig\n",
    "from initialized_model.modeling_phi import PhiForCausalLM"
   ]
  },
  {
   "cell_type": "code",
   "execution_count": 3,
   "metadata": {},
   "outputs": [
    {
     "name": "stderr",
     "output_type": "stream",
     "text": [
      "Loading checkpoint shards: 100%|██████████| 2/2 [00:22<00:00, 11.39s/it]\n"
     ]
    }
   ],
   "source": [
    "# Load model directly\n",
    "from transformers import AutoModelForCausalLM\n",
    "model = AutoModelForCausalLM.from_pretrained(\"microsoft/phi-2\", trust_remote_code=True)"
   ]
  },
  {
   "cell_type": "code",
   "execution_count": 9,
   "metadata": {},
   "outputs": [],
   "source": [
    "original_config = PhiConfig.from_pretrained(\"microsoft/phi-2\")"
   ]
  },
  {
   "cell_type": "code",
   "execution_count": 20,
   "metadata": {},
   "outputs": [],
   "source": [
    "original_config.n_layer = 12\n",
    "original_config.n_embd = 768"
   ]
  },
  {
   "cell_type": "code",
   "execution_count": 21,
   "metadata": {},
   "outputs": [],
   "source": [
    "smol = PhiForCausalLM(original_config)"
   ]
  },
  {
   "cell_type": "code",
   "execution_count": 25,
   "metadata": {},
   "outputs": [],
   "source": [
    "import torch\n",
    "import numpy as np\n",
    "\n",
    "def uniform_selection(weights, old_dim, new_dim, vocab_size):\n",
    "    new_weights = {}\n",
    "    for key in weights:\n",
    "        original = np.array(weights[key])\n",
    "        new_dim_shapes = [size if size == vocab_size else int(size * new_dim / old_dim) for size in original.shape]\n",
    "        indices = [np.linspace(0, o-1, n, dtype=int) for o, n in zip(original.shape, new_dim_shapes)]\n",
    "        new_weights[key] = torch.Tensor(original[tuple(np.ix_(*indices))])\n",
    "    return new_weights"
   ]
  },
  {
   "cell_type": "code",
   "execution_count": 28,
   "metadata": {},
   "outputs": [],
   "source": [
    "# Now we want to copy all the weights from the original model to the smol model\n",
    "# We can do this by copying the state dict from the original model to the smol model\n",
    "def initialize_model(model, smol):\n",
    "    original = model.state_dict()\n",
    "    smol_dict = smol.state_dict()\n",
    "\n",
    "    for key in original.keys():\n",
    "        if key in smol_dict.keys():\n",
    "            smol_dict[key] = original[key]\n",
    "\n",
    "    if model.config.n_embd != smol.config.n_embd:\n",
    "        print(\"Model dimensions do not match. We need to perform weight selection\")\n",
    "        smol_dict = uniform_selection(smol_dict, model.config.n_embd, smol.config.n_embd, smol.config.vocab_size)\n",
    "\n",
    "    smol.load_state_dict(smol_dict)\n",
    "    return smol"
   ]
  },
  {
   "cell_type": "code",
   "execution_count": 29,
   "metadata": {},
   "outputs": [
    {
     "name": "stdout",
     "output_type": "stream",
     "text": [
      "Model dimensions do not match. We need to perform weight selection\n"
     ]
    }
   ],
   "source": [
    "smol = initialize_model(model, smol)"
   ]
  },
  {
   "cell_type": "code",
   "execution_count": 40,
   "metadata": {},
   "outputs": [
    {
     "data": {
      "text/plain": [
       "39321600"
      ]
     },
     "execution_count": 40,
     "metadata": {},
     "output_type": "execute_result"
    }
   ],
   "source": [
    "list(smol.parameters())[0].numel()"
   ]
  },
  {
   "cell_type": "code",
   "execution_count": 42,
   "metadata": {},
   "outputs": [
    {
     "data": {
      "text/plain": [
       "2779683840"
      ]
     },
     "execution_count": 42,
     "metadata": {},
     "output_type": "execute_result"
    }
   ],
   "source": [
    "sum(\n",
    "    x.numel() for x in model.parameters() if x.requires_grad\n",
    ")"
   ]
  },
  {
   "cell_type": "code",
   "execution_count": null,
   "metadata": {},
   "outputs": [],
   "source": []
  },
  {
   "cell_type": "code",
   "execution_count": null,
   "metadata": {},
   "outputs": [],
   "source": []
  },
  {
   "cell_type": "code",
   "execution_count": 1,
   "metadata": {},
   "outputs": [
    {
     "name": "stderr",
     "output_type": "stream",
     "text": [
      "/Users/aw/projects/phineas/.venv/lib/python3.11/site-packages/tqdm/auto.py:21: TqdmWarning: IProgress not found. Please update jupyter and ipywidgets. See https://ipywidgets.readthedocs.io/en/stable/user_install.html\n",
      "  from .autonotebook import tqdm as notebook_tqdm\n"
     ]
    }
   ],
   "source": [
    "from initialized_model.configuration_phi import PhiConfig\n",
    "from initialized_model.modeling_phi import PhiForCausalLM"
   ]
  },
  {
   "cell_type": "code",
   "execution_count": 2,
   "metadata": {},
   "outputs": [],
   "source": [
    "model = PhiForCausalLM(PhiConfig(n_layer=16))"
   ]
  },
  {
   "cell_type": "code",
   "execution_count": null,
   "metadata": {},
   "outputs": [],
   "source": []
  },
  {
   "cell_type": "code",
   "execution_count": null,
   "metadata": {},
   "outputs": [],
   "source": [
    "# Escape periods and compile the regex patterns\n",
    "compiled_patterns = [\n",
    "    re.compile(pattern.replace(\".\", \"\\\\.\")) for pattern in regex_patterns\n",
    "]\n",
    "\n",
    "# First, freeze all parameters in the model\n",
    "for param in model.parameters():\n",
    "    param.requires_grad = False\n",
    "\n",
    "# Unfreeze layers that match the regex patterns\n",
    "for name, param in model.named_parameters():\n",
    "    if any(pattern.match(name) for pattern in compiled_patterns):\n",
    "        print(f\"Unfreezing {name}\")\n",
    "        param.requires_grad = True"
   ]
  }
 ],
 "metadata": {
  "kernelspec": {
   "display_name": ".venv",
   "language": "python",
   "name": "python3"
  },
  "language_info": {
   "codemirror_mode": {
    "name": "ipython",
    "version": 3
   },
   "file_extension": ".py",
   "mimetype": "text/x-python",
   "name": "python",
   "nbconvert_exporter": "python",
   "pygments_lexer": "ipython3",
   "version": "3.11.6"
  }
 },
 "nbformat": 4,
 "nbformat_minor": 2
}
